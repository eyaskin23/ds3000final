{
 "cells": [
  {
   "cell_type": "markdown",
   "id": "53a8be83",
   "metadata": {},
   "source": [
    "# Exploratory Data Analysis of Accidental Drug Related Deaths (2012 - 2022)\n",
    "https://www.kaggle.com/datasets/usmanlovescode/accidental-drug-related-deaths-2012-2022"
   ]
  },
  {
   "cell_type": "code",
   "execution_count": null,
   "id": "a2e3cd40",
   "metadata": {},
   "outputs": [],
   "source": []
  }
 ],
 "metadata": {
  "kernelspec": {
   "display_name": "Python 3 (ipykernel)",
   "language": "python",
   "name": "python3"
  },
  "language_info": {
   "codemirror_mode": {
    "name": "ipython",
    "version": 3
   },
   "file_extension": ".py",
   "mimetype": "text/x-python",
   "name": "python",
   "nbconvert_exporter": "python",
   "pygments_lexer": "ipython3",
   "version": "3.11.5"
  }
 },
 "nbformat": 4,
 "nbformat_minor": 5
}
