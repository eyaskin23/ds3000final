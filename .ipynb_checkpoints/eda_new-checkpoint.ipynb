{
 "cells": [
  {
   "cell_type": "markdown",
   "id": "53a8be83",
   "metadata": {},
   "source": [
    "# Exploratory Data Analysis of Accidental Drug Related Deaths (2012 - 2022)\n",
    "https://www.kaggle.com/datasets/usmanlovescode/accidental-drug-related-deaths-2012-2022"
   ]
  },
  {
   "cell_type": "code",
   "execution_count": 49,
   "id": "c0454350",
   "metadata": {},
   "outputs": [],
   "source": [
    "# load data and import libraries\n",
    "import pandas as pd\n",
    "from matplotlib import pyplot as plt\n",
    "import seaborn as sns\n",
    "import scipy.stats as stats\n",
    "import numpy as np"
   ]
  },
  {
   "cell_type": "code",
   "execution_count": 2,
   "id": "6642d01e",
   "metadata": {},
   "outputs": [],
   "source": [
    "df = pd.read_csv('Accidental_Drug_Related_Deaths_2012-2022.csv')"
   ]
  },
  {
   "cell_type": "markdown",
   "id": "9e91a7ee",
   "metadata": {},
   "source": [
    "## 1. Getting an overview of the data we are working with"
   ]
  },
  {
   "cell_type": "code",
   "execution_count": 3,
   "id": "69af0b3d",
   "metadata": {},
   "outputs": [
    {
     "data": {
      "text/html": [
       "<div>\n",
       "<style scoped>\n",
       "    .dataframe tbody tr th:only-of-type {\n",
       "        vertical-align: middle;\n",
       "    }\n",
       "\n",
       "    .dataframe tbody tr th {\n",
       "        vertical-align: top;\n",
       "    }\n",
       "\n",
       "    .dataframe thead th {\n",
       "        text-align: right;\n",
       "    }\n",
       "</style>\n",
       "<table border=\"1\" class=\"dataframe\">\n",
       "  <thead>\n",
       "    <tr style=\"text-align: right;\">\n",
       "      <th></th>\n",
       "      <th>Date</th>\n",
       "      <th>Date Type</th>\n",
       "      <th>Age</th>\n",
       "      <th>Sex</th>\n",
       "      <th>Race</th>\n",
       "      <th>Ethnicity</th>\n",
       "      <th>Residence City</th>\n",
       "      <th>Residence County</th>\n",
       "      <th>Residence State</th>\n",
       "      <th>Injury City</th>\n",
       "      <th>...</th>\n",
       "      <th>Xylazine</th>\n",
       "      <th>Gabapentin</th>\n",
       "      <th>Opiate NOS</th>\n",
       "      <th>Heroin/Morph/Codeine</th>\n",
       "      <th>Other Opioid</th>\n",
       "      <th>Any Opioid</th>\n",
       "      <th>Other</th>\n",
       "      <th>ResidenceCityGeo</th>\n",
       "      <th>InjuryCityGeo</th>\n",
       "      <th>DeathCityGeo</th>\n",
       "    </tr>\n",
       "  </thead>\n",
       "  <tbody>\n",
       "    <tr>\n",
       "      <th>0</th>\n",
       "      <td>05/29/2012</td>\n",
       "      <td>Date of death</td>\n",
       "      <td>37.0</td>\n",
       "      <td>Male</td>\n",
       "      <td>Black</td>\n",
       "      <td>NaN</td>\n",
       "      <td>STAMFORD</td>\n",
       "      <td>FAIRFIELD</td>\n",
       "      <td>NaN</td>\n",
       "      <td>STAMFORD</td>\n",
       "      <td>...</td>\n",
       "      <td>NaN</td>\n",
       "      <td>NaN</td>\n",
       "      <td>NaN</td>\n",
       "      <td>NaN</td>\n",
       "      <td>NaN</td>\n",
       "      <td>NaN</td>\n",
       "      <td>NaN</td>\n",
       "      <td>STAMFORD, CT\\n(41.051924, -73.539475)</td>\n",
       "      <td>STAMFORD, CT\\n(41.051924, -73.539475)</td>\n",
       "      <td>CT\\n(41.575155, -72.738288)</td>\n",
       "    </tr>\n",
       "    <tr>\n",
       "      <th>1</th>\n",
       "      <td>06/27/2012</td>\n",
       "      <td>Date of death</td>\n",
       "      <td>37.0</td>\n",
       "      <td>Male</td>\n",
       "      <td>White</td>\n",
       "      <td>NaN</td>\n",
       "      <td>NORWICH</td>\n",
       "      <td>NEW LONDON</td>\n",
       "      <td>NaN</td>\n",
       "      <td>NORWICH</td>\n",
       "      <td>...</td>\n",
       "      <td>NaN</td>\n",
       "      <td>NaN</td>\n",
       "      <td>NaN</td>\n",
       "      <td>NaN</td>\n",
       "      <td>NaN</td>\n",
       "      <td>NaN</td>\n",
       "      <td>NaN</td>\n",
       "      <td>NORWICH, CT\\n(41.524304, -72.075821)</td>\n",
       "      <td>NORWICH, CT\\n(41.524304, -72.075821)</td>\n",
       "      <td>Norwich, CT\\n(41.524304, -72.075821)</td>\n",
       "    </tr>\n",
       "    <tr>\n",
       "      <th>2</th>\n",
       "      <td>03/24/2014</td>\n",
       "      <td>Date of death</td>\n",
       "      <td>28.0</td>\n",
       "      <td>Male</td>\n",
       "      <td>White</td>\n",
       "      <td>NaN</td>\n",
       "      <td>HEBRON</td>\n",
       "      <td>NaN</td>\n",
       "      <td>NaN</td>\n",
       "      <td>HEBRON</td>\n",
       "      <td>...</td>\n",
       "      <td>NaN</td>\n",
       "      <td>NaN</td>\n",
       "      <td>NaN</td>\n",
       "      <td>NaN</td>\n",
       "      <td>NaN</td>\n",
       "      <td>NaN</td>\n",
       "      <td>NaN</td>\n",
       "      <td>HEBRON, CT\\n(41.658069, -72.366324)</td>\n",
       "      <td>HEBRON, CT\\n(41.658069, -72.366324)</td>\n",
       "      <td>Marlborough, CT\\n(41.632043, -72.461309)</td>\n",
       "    </tr>\n",
       "    <tr>\n",
       "      <th>3</th>\n",
       "      <td>12/31/2014</td>\n",
       "      <td>Date of death</td>\n",
       "      <td>26.0</td>\n",
       "      <td>Female</td>\n",
       "      <td>White</td>\n",
       "      <td>NaN</td>\n",
       "      <td>BALTIC</td>\n",
       "      <td>NaN</td>\n",
       "      <td>NaN</td>\n",
       "      <td>NaN</td>\n",
       "      <td>...</td>\n",
       "      <td>NaN</td>\n",
       "      <td>NaN</td>\n",
       "      <td>NaN</td>\n",
       "      <td>NaN</td>\n",
       "      <td>NaN</td>\n",
       "      <td>NaN</td>\n",
       "      <td>NaN</td>\n",
       "      <td>BALTIC, CT\\n(41.617221, -72.085031)</td>\n",
       "      <td>CT\\n(41.575155, -72.738288)</td>\n",
       "      <td>Baltic, CT\\n(41.617221, -72.085031)</td>\n",
       "    </tr>\n",
       "    <tr>\n",
       "      <th>4</th>\n",
       "      <td>01/16/2016</td>\n",
       "      <td>Date of death</td>\n",
       "      <td>41.0</td>\n",
       "      <td>Male</td>\n",
       "      <td>White</td>\n",
       "      <td>NaN</td>\n",
       "      <td>SHELTON</td>\n",
       "      <td>FAIRFIELD</td>\n",
       "      <td>CT</td>\n",
       "      <td>SHELTON</td>\n",
       "      <td>...</td>\n",
       "      <td>NaN</td>\n",
       "      <td>NaN</td>\n",
       "      <td>NaN</td>\n",
       "      <td>NaN</td>\n",
       "      <td>NaN</td>\n",
       "      <td>Y</td>\n",
       "      <td>NaN</td>\n",
       "      <td>SHELTON, CT\\n(41.316843, -73.092968)</td>\n",
       "      <td>SHELTON, CT\\n(41.316843, -73.092968)</td>\n",
       "      <td>Bridgeport, CT\\n(41.179195, -73.189476)</td>\n",
       "    </tr>\n",
       "  </tbody>\n",
       "</table>\n",
       "<p>5 rows × 48 columns</p>\n",
       "</div>"
      ],
      "text/plain": [
       "         Date      Date Type   Age     Sex   Race Ethnicity Residence City  \\\n",
       "0  05/29/2012  Date of death  37.0    Male  Black       NaN       STAMFORD   \n",
       "1  06/27/2012  Date of death  37.0    Male  White       NaN        NORWICH   \n",
       "2  03/24/2014  Date of death  28.0    Male  White       NaN         HEBRON   \n",
       "3  12/31/2014  Date of death  26.0  Female  White       NaN         BALTIC   \n",
       "4  01/16/2016  Date of death  41.0    Male  White       NaN        SHELTON   \n",
       "\n",
       "  Residence County Residence State Injury City  ... Xylazine Gabapentin  \\\n",
       "0        FAIRFIELD             NaN    STAMFORD  ...      NaN        NaN   \n",
       "1       NEW LONDON             NaN     NORWICH  ...      NaN        NaN   \n",
       "2              NaN             NaN      HEBRON  ...      NaN        NaN   \n",
       "3              NaN             NaN         NaN  ...      NaN        NaN   \n",
       "4        FAIRFIELD              CT     SHELTON  ...      NaN        NaN   \n",
       "\n",
       "  Opiate NOS Heroin/Morph/Codeine Other Opioid Any Opioid Other  \\\n",
       "0        NaN                  NaN          NaN        NaN   NaN   \n",
       "1        NaN                  NaN          NaN        NaN   NaN   \n",
       "2        NaN                  NaN          NaN        NaN   NaN   \n",
       "3        NaN                  NaN          NaN        NaN   NaN   \n",
       "4        NaN                  NaN          NaN          Y   NaN   \n",
       "\n",
       "                        ResidenceCityGeo  \\\n",
       "0  STAMFORD, CT\\n(41.051924, -73.539475)   \n",
       "1   NORWICH, CT\\n(41.524304, -72.075821)   \n",
       "2    HEBRON, CT\\n(41.658069, -72.366324)   \n",
       "3    BALTIC, CT\\n(41.617221, -72.085031)   \n",
       "4   SHELTON, CT\\n(41.316843, -73.092968)   \n",
       "\n",
       "                           InjuryCityGeo  \\\n",
       "0  STAMFORD, CT\\n(41.051924, -73.539475)   \n",
       "1   NORWICH, CT\\n(41.524304, -72.075821)   \n",
       "2    HEBRON, CT\\n(41.658069, -72.366324)   \n",
       "3            CT\\n(41.575155, -72.738288)   \n",
       "4   SHELTON, CT\\n(41.316843, -73.092968)   \n",
       "\n",
       "                               DeathCityGeo  \n",
       "0               CT\\n(41.575155, -72.738288)  \n",
       "1      Norwich, CT\\n(41.524304, -72.075821)  \n",
       "2  Marlborough, CT\\n(41.632043, -72.461309)  \n",
       "3       Baltic, CT\\n(41.617221, -72.085031)  \n",
       "4   Bridgeport, CT\\n(41.179195, -73.189476)  \n",
       "\n",
       "[5 rows x 48 columns]"
      ]
     },
     "execution_count": 3,
     "metadata": {},
     "output_type": "execute_result"
    }
   ],
   "source": [
    "# observe sample values\n",
    "df.head()"
   ]
  },
  {
   "cell_type": "code",
   "execution_count": 4,
   "id": "c86bc385",
   "metadata": {},
   "outputs": [
    {
     "name": "stdout",
     "output_type": "stream",
     "text": [
      "Number of Rows: 10654\n",
      "Number of Columns: 48\n"
     ]
    }
   ],
   "source": [
    "# get shape\n",
    "dimensions = df.shape\n",
    "print(\"Number of Rows:\", dimensions[0])\n",
    "print(\"Number of Columns:\", dimensions[1])"
   ]
  },
  {
   "cell_type": "markdown",
   "id": "4613973f",
   "metadata": {},
   "source": [
    "## 2. Converting data to suitable types"
   ]
  },
  {
   "cell_type": "code",
   "execution_count": 5,
   "id": "8dcbd018",
   "metadata": {},
   "outputs": [
    {
     "name": "stdout",
     "output_type": "stream",
     "text": [
      "<class 'pandas.core.frame.DataFrame'>\n",
      "RangeIndex: 10654 entries, 0 to 10653\n",
      "Data columns (total 48 columns):\n",
      " #   Column                         Non-Null Count  Dtype  \n",
      "---  ------                         --------------  -----  \n",
      " 0   Date                           10654 non-null  object \n",
      " 1   Date Type                      10654 non-null  object \n",
      " 2   Age                            10652 non-null  float64\n",
      " 3   Sex                            10645 non-null  object \n",
      " 4   Race                           10625 non-null  object \n",
      " 5   Ethnicity                      1575 non-null   object \n",
      " 6   Residence City                 10148 non-null  object \n",
      " 7   Residence County               9486 non-null   object \n",
      " 8   Residence State                8756 non-null   object \n",
      " 9   Injury City                    10476 non-null  object \n",
      " 10  Injury County                  7332 non-null   object \n",
      " 11  Injury State                   7741 non-null   object \n",
      " 12  Injury Place                   10364 non-null  object \n",
      " 13  Description of Injury          9850 non-null   object \n",
      " 14  Death City                     9197 non-null   object \n",
      " 15  Death County                   8090 non-null   object \n",
      " 16  Death State                    6873 non-null   object \n",
      " 17  Location                       10632 non-null  object \n",
      " 18  Location if Other              1194 non-null   object \n",
      " 19  Cause of Death                 10654 non-null  object \n",
      " 20  Manner of Death                10645 non-null  object \n",
      " 21  Other Significant Conditions   1010 non-null   object \n",
      " 22  Heroin                         3472 non-null   object \n",
      " 23  Heroin death certificate (DC)  740 non-null    object \n",
      " 24  Cocaine                        3855 non-null   object \n",
      " 25  Fentanyl                       6925 non-null   object \n",
      " 26  Fentanyl Analogue              804 non-null    object \n",
      " 27  Oxycodone                      950 non-null    object \n",
      " 28  Oxymorphone                    157 non-null    object \n",
      " 29  Ethanol                        2878 non-null   object \n",
      " 30  Hydrocodone                    163 non-null    object \n",
      " 31  Benzodiazepine                 2499 non-null   object \n",
      " 32  Methadone                      938 non-null    object \n",
      " 33  Meth/Amphetamine               127 non-null    object \n",
      " 34  Amphet                         359 non-null    object \n",
      " 35  Tramad                         284 non-null    object \n",
      " 36  Hydromorphone                  67 non-null     object \n",
      " 37  Morphine (Not Heroin)          55 non-null     object \n",
      " 38  Xylazine                       792 non-null    object \n",
      " 39  Gabapentin                     348 non-null    object \n",
      " 40  Opiate NOS                     126 non-null    object \n",
      " 41  Heroin/Morph/Codeine           2090 non-null   object \n",
      " 42  Other Opioid                   128 non-null    object \n",
      " 43  Any Opioid                     7620 non-null   object \n",
      " 44  Other                          692 non-null    object \n",
      " 45  ResidenceCityGeo               10488 non-null  object \n",
      " 46  InjuryCityGeo                  10408 non-null  object \n",
      " 47  DeathCityGeo                   10653 non-null  object \n",
      "dtypes: float64(1), object(47)\n",
      "memory usage: 3.9+ MB\n"
     ]
    }
   ],
   "source": [
    "# check data types\n",
    "df.info()"
   ]
  },
  {
   "cell_type": "markdown",
   "id": "2bb26f52",
   "metadata": {},
   "source": [
    "### We noticed that the date column was an object when a more appropiate type would be a datetime structure. We also saw that age was a float (ex. 46.0, 32.0, etc.) when it really should just be an integer. Thus, we converted both of these types below"
   ]
  },
  {
   "cell_type": "code",
   "execution_count": 6,
   "id": "5e9d3fee",
   "metadata": {},
   "outputs": [],
   "source": [
    "mode_age = df['Age'].mode()[0]\n",
    "df['Age'].fillna(mode_age, inplace=True)\n",
    "# cast types\n",
    "df['Date'] = df['Date'].astype(\"datetime64[us]\")\n",
    "df['Age'] = df['Age'].astype('int64')"
   ]
  },
  {
   "cell_type": "code",
   "execution_count": 7,
   "id": "f5e47454",
   "metadata": {},
   "outputs": [
    {
     "data": {
      "text/html": [
       "<div>\n",
       "<style scoped>\n",
       "    .dataframe tbody tr th:only-of-type {\n",
       "        vertical-align: middle;\n",
       "    }\n",
       "\n",
       "    .dataframe tbody tr th {\n",
       "        vertical-align: top;\n",
       "    }\n",
       "\n",
       "    .dataframe thead th {\n",
       "        text-align: right;\n",
       "    }\n",
       "</style>\n",
       "<table border=\"1\" class=\"dataframe\">\n",
       "  <thead>\n",
       "    <tr style=\"text-align: right;\">\n",
       "      <th></th>\n",
       "      <th>Date</th>\n",
       "      <th>Date Type</th>\n",
       "      <th>Age</th>\n",
       "      <th>Sex</th>\n",
       "      <th>Race</th>\n",
       "      <th>Ethnicity</th>\n",
       "      <th>Residence City</th>\n",
       "      <th>Residence County</th>\n",
       "      <th>Residence State</th>\n",
       "      <th>Injury City</th>\n",
       "      <th>...</th>\n",
       "      <th>Xylazine</th>\n",
       "      <th>Gabapentin</th>\n",
       "      <th>Opiate NOS</th>\n",
       "      <th>Heroin/Morph/Codeine</th>\n",
       "      <th>Other Opioid</th>\n",
       "      <th>Any Opioid</th>\n",
       "      <th>Other</th>\n",
       "      <th>ResidenceCityGeo</th>\n",
       "      <th>InjuryCityGeo</th>\n",
       "      <th>DeathCityGeo</th>\n",
       "    </tr>\n",
       "  </thead>\n",
       "  <tbody>\n",
       "    <tr>\n",
       "      <th>count</th>\n",
       "      <td>10654</td>\n",
       "      <td>10654</td>\n",
       "      <td>10654.000000</td>\n",
       "      <td>10645</td>\n",
       "      <td>10625</td>\n",
       "      <td>1575</td>\n",
       "      <td>10148</td>\n",
       "      <td>9486</td>\n",
       "      <td>8756</td>\n",
       "      <td>10476</td>\n",
       "      <td>...</td>\n",
       "      <td>792</td>\n",
       "      <td>348</td>\n",
       "      <td>126</td>\n",
       "      <td>2090</td>\n",
       "      <td>128</td>\n",
       "      <td>7620</td>\n",
       "      <td>692</td>\n",
       "      <td>10488</td>\n",
       "      <td>10408</td>\n",
       "      <td>10653</td>\n",
       "    </tr>\n",
       "    <tr>\n",
       "      <th>unique</th>\n",
       "      <td>NaN</td>\n",
       "      <td>2</td>\n",
       "      <td>NaN</td>\n",
       "      <td>2</td>\n",
       "      <td>14</td>\n",
       "      <td>8</td>\n",
       "      <td>513</td>\n",
       "      <td>152</td>\n",
       "      <td>34</td>\n",
       "      <td>295</td>\n",
       "      <td>...</td>\n",
       "      <td>1</td>\n",
       "      <td>2</td>\n",
       "      <td>1</td>\n",
       "      <td>2</td>\n",
       "      <td>8</td>\n",
       "      <td>2</td>\n",
       "      <td>147</td>\n",
       "      <td>534</td>\n",
       "      <td>429</td>\n",
       "      <td>239</td>\n",
       "    </tr>\n",
       "    <tr>\n",
       "      <th>top</th>\n",
       "      <td>NaN</td>\n",
       "      <td>Date of death</td>\n",
       "      <td>NaN</td>\n",
       "      <td>Male</td>\n",
       "      <td>White</td>\n",
       "      <td>Hispanic</td>\n",
       "      <td>HARTFORD</td>\n",
       "      <td>NEW HAVEN</td>\n",
       "      <td>CT</td>\n",
       "      <td>HARTFORD</td>\n",
       "      <td>...</td>\n",
       "      <td>Y</td>\n",
       "      <td>Y</td>\n",
       "      <td>Y</td>\n",
       "      <td>Y</td>\n",
       "      <td>Y</td>\n",
       "      <td>Y</td>\n",
       "      <td>PCP</td>\n",
       "      <td>HARTFORD, CT\\n(41.765775, -72.673356)</td>\n",
       "      <td>HARTFORD, CT\\n(41.765775, -72.673356)</td>\n",
       "      <td>CT\\n(41.57350273000003, -72.73830590799997)</td>\n",
       "    </tr>\n",
       "    <tr>\n",
       "      <th>freq</th>\n",
       "      <td>NaN</td>\n",
       "      <td>8887</td>\n",
       "      <td>NaN</td>\n",
       "      <td>7890</td>\n",
       "      <td>9078</td>\n",
       "      <td>972</td>\n",
       "      <td>721</td>\n",
       "      <td>2742</td>\n",
       "      <td>8460</td>\n",
       "      <td>940</td>\n",
       "      <td>...</td>\n",
       "      <td>792</td>\n",
       "      <td>347</td>\n",
       "      <td>126</td>\n",
       "      <td>2045</td>\n",
       "      <td>90</td>\n",
       "      <td>7612</td>\n",
       "      <td>123</td>\n",
       "      <td>596</td>\n",
       "      <td>775</td>\n",
       "      <td>1452</td>\n",
       "    </tr>\n",
       "    <tr>\n",
       "      <th>mean</th>\n",
       "      <td>2018-09-27 07:11:17.829923</td>\n",
       "      <td>NaN</td>\n",
       "      <td>43.513891</td>\n",
       "      <td>NaN</td>\n",
       "      <td>NaN</td>\n",
       "      <td>NaN</td>\n",
       "      <td>NaN</td>\n",
       "      <td>NaN</td>\n",
       "      <td>NaN</td>\n",
       "      <td>NaN</td>\n",
       "      <td>...</td>\n",
       "      <td>NaN</td>\n",
       "      <td>NaN</td>\n",
       "      <td>NaN</td>\n",
       "      <td>NaN</td>\n",
       "      <td>NaN</td>\n",
       "      <td>NaN</td>\n",
       "      <td>NaN</td>\n",
       "      <td>NaN</td>\n",
       "      <td>NaN</td>\n",
       "      <td>NaN</td>\n",
       "    </tr>\n",
       "    <tr>\n",
       "      <th>min</th>\n",
       "      <td>2012-01-01 00:00:00</td>\n",
       "      <td>NaN</td>\n",
       "      <td>13.000000</td>\n",
       "      <td>NaN</td>\n",
       "      <td>NaN</td>\n",
       "      <td>NaN</td>\n",
       "      <td>NaN</td>\n",
       "      <td>NaN</td>\n",
       "      <td>NaN</td>\n",
       "      <td>NaN</td>\n",
       "      <td>...</td>\n",
       "      <td>NaN</td>\n",
       "      <td>NaN</td>\n",
       "      <td>NaN</td>\n",
       "      <td>NaN</td>\n",
       "      <td>NaN</td>\n",
       "      <td>NaN</td>\n",
       "      <td>NaN</td>\n",
       "      <td>NaN</td>\n",
       "      <td>NaN</td>\n",
       "      <td>NaN</td>\n",
       "    </tr>\n",
       "    <tr>\n",
       "      <th>25%</th>\n",
       "      <td>2016-08-05 00:00:00</td>\n",
       "      <td>NaN</td>\n",
       "      <td>33.000000</td>\n",
       "      <td>NaN</td>\n",
       "      <td>NaN</td>\n",
       "      <td>NaN</td>\n",
       "      <td>NaN</td>\n",
       "      <td>NaN</td>\n",
       "      <td>NaN</td>\n",
       "      <td>NaN</td>\n",
       "      <td>...</td>\n",
       "      <td>NaN</td>\n",
       "      <td>NaN</td>\n",
       "      <td>NaN</td>\n",
       "      <td>NaN</td>\n",
       "      <td>NaN</td>\n",
       "      <td>NaN</td>\n",
       "      <td>NaN</td>\n",
       "      <td>NaN</td>\n",
       "      <td>NaN</td>\n",
       "      <td>NaN</td>\n",
       "    </tr>\n",
       "    <tr>\n",
       "      <th>50%</th>\n",
       "      <td>2019-03-24 00:00:00</td>\n",
       "      <td>NaN</td>\n",
       "      <td>43.000000</td>\n",
       "      <td>NaN</td>\n",
       "      <td>NaN</td>\n",
       "      <td>NaN</td>\n",
       "      <td>NaN</td>\n",
       "      <td>NaN</td>\n",
       "      <td>NaN</td>\n",
       "      <td>NaN</td>\n",
       "      <td>...</td>\n",
       "      <td>NaN</td>\n",
       "      <td>NaN</td>\n",
       "      <td>NaN</td>\n",
       "      <td>NaN</td>\n",
       "      <td>NaN</td>\n",
       "      <td>NaN</td>\n",
       "      <td>NaN</td>\n",
       "      <td>NaN</td>\n",
       "      <td>NaN</td>\n",
       "      <td>NaN</td>\n",
       "    </tr>\n",
       "    <tr>\n",
       "      <th>75%</th>\n",
       "      <td>2021-03-18 18:00:00</td>\n",
       "      <td>NaN</td>\n",
       "      <td>54.000000</td>\n",
       "      <td>NaN</td>\n",
       "      <td>NaN</td>\n",
       "      <td>NaN</td>\n",
       "      <td>NaN</td>\n",
       "      <td>NaN</td>\n",
       "      <td>NaN</td>\n",
       "      <td>NaN</td>\n",
       "      <td>...</td>\n",
       "      <td>NaN</td>\n",
       "      <td>NaN</td>\n",
       "      <td>NaN</td>\n",
       "      <td>NaN</td>\n",
       "      <td>NaN</td>\n",
       "      <td>NaN</td>\n",
       "      <td>NaN</td>\n",
       "      <td>NaN</td>\n",
       "      <td>NaN</td>\n",
       "      <td>NaN</td>\n",
       "    </tr>\n",
       "    <tr>\n",
       "      <th>max</th>\n",
       "      <td>2022-12-31 00:00:00</td>\n",
       "      <td>NaN</td>\n",
       "      <td>87.000000</td>\n",
       "      <td>NaN</td>\n",
       "      <td>NaN</td>\n",
       "      <td>NaN</td>\n",
       "      <td>NaN</td>\n",
       "      <td>NaN</td>\n",
       "      <td>NaN</td>\n",
       "      <td>NaN</td>\n",
       "      <td>...</td>\n",
       "      <td>NaN</td>\n",
       "      <td>NaN</td>\n",
       "      <td>NaN</td>\n",
       "      <td>NaN</td>\n",
       "      <td>NaN</td>\n",
       "      <td>NaN</td>\n",
       "      <td>NaN</td>\n",
       "      <td>NaN</td>\n",
       "      <td>NaN</td>\n",
       "      <td>NaN</td>\n",
       "    </tr>\n",
       "    <tr>\n",
       "      <th>std</th>\n",
       "      <td>NaN</td>\n",
       "      <td>NaN</td>\n",
       "      <td>12.601070</td>\n",
       "      <td>NaN</td>\n",
       "      <td>NaN</td>\n",
       "      <td>NaN</td>\n",
       "      <td>NaN</td>\n",
       "      <td>NaN</td>\n",
       "      <td>NaN</td>\n",
       "      <td>NaN</td>\n",
       "      <td>...</td>\n",
       "      <td>NaN</td>\n",
       "      <td>NaN</td>\n",
       "      <td>NaN</td>\n",
       "      <td>NaN</td>\n",
       "      <td>NaN</td>\n",
       "      <td>NaN</td>\n",
       "      <td>NaN</td>\n",
       "      <td>NaN</td>\n",
       "      <td>NaN</td>\n",
       "      <td>NaN</td>\n",
       "    </tr>\n",
       "  </tbody>\n",
       "</table>\n",
       "<p>11 rows × 48 columns</p>\n",
       "</div>"
      ],
      "text/plain": [
       "                              Date      Date Type           Age    Sex   Race  \\\n",
       "count                        10654          10654  10654.000000  10645  10625   \n",
       "unique                         NaN              2           NaN      2     14   \n",
       "top                            NaN  Date of death           NaN   Male  White   \n",
       "freq                           NaN           8887           NaN   7890   9078   \n",
       "mean    2018-09-27 07:11:17.829923            NaN     43.513891    NaN    NaN   \n",
       "min            2012-01-01 00:00:00            NaN     13.000000    NaN    NaN   \n",
       "25%            2016-08-05 00:00:00            NaN     33.000000    NaN    NaN   \n",
       "50%            2019-03-24 00:00:00            NaN     43.000000    NaN    NaN   \n",
       "75%            2021-03-18 18:00:00            NaN     54.000000    NaN    NaN   \n",
       "max            2022-12-31 00:00:00            NaN     87.000000    NaN    NaN   \n",
       "std                            NaN            NaN     12.601070    NaN    NaN   \n",
       "\n",
       "       Ethnicity Residence City Residence County Residence State Injury City  \\\n",
       "count       1575          10148             9486            8756       10476   \n",
       "unique         8            513              152              34         295   \n",
       "top     Hispanic       HARTFORD        NEW HAVEN              CT    HARTFORD   \n",
       "freq         972            721             2742            8460         940   \n",
       "mean         NaN            NaN              NaN             NaN         NaN   \n",
       "min          NaN            NaN              NaN             NaN         NaN   \n",
       "25%          NaN            NaN              NaN             NaN         NaN   \n",
       "50%          NaN            NaN              NaN             NaN         NaN   \n",
       "75%          NaN            NaN              NaN             NaN         NaN   \n",
       "max          NaN            NaN              NaN             NaN         NaN   \n",
       "std          NaN            NaN              NaN             NaN         NaN   \n",
       "\n",
       "        ... Xylazine Gabapentin Opiate NOS Heroin/Morph/Codeine Other Opioid  \\\n",
       "count   ...      792        348        126                 2090          128   \n",
       "unique  ...        1          2          1                    2            8   \n",
       "top     ...        Y          Y          Y                    Y            Y   \n",
       "freq    ...      792        347        126                 2045           90   \n",
       "mean    ...      NaN        NaN        NaN                  NaN          NaN   \n",
       "min     ...      NaN        NaN        NaN                  NaN          NaN   \n",
       "25%     ...      NaN        NaN        NaN                  NaN          NaN   \n",
       "50%     ...      NaN        NaN        NaN                  NaN          NaN   \n",
       "75%     ...      NaN        NaN        NaN                  NaN          NaN   \n",
       "max     ...      NaN        NaN        NaN                  NaN          NaN   \n",
       "std     ...      NaN        NaN        NaN                  NaN          NaN   \n",
       "\n",
       "       Any Opioid Other                       ResidenceCityGeo  \\\n",
       "count        7620   692                                  10488   \n",
       "unique          2   147                                    534   \n",
       "top             Y   PCP  HARTFORD, CT\\n(41.765775, -72.673356)   \n",
       "freq         7612   123                                    596   \n",
       "mean          NaN   NaN                                    NaN   \n",
       "min           NaN   NaN                                    NaN   \n",
       "25%           NaN   NaN                                    NaN   \n",
       "50%           NaN   NaN                                    NaN   \n",
       "75%           NaN   NaN                                    NaN   \n",
       "max           NaN   NaN                                    NaN   \n",
       "std           NaN   NaN                                    NaN   \n",
       "\n",
       "                                InjuryCityGeo  \\\n",
       "count                                   10408   \n",
       "unique                                    429   \n",
       "top     HARTFORD, CT\\n(41.765775, -72.673356)   \n",
       "freq                                      775   \n",
       "mean                                      NaN   \n",
       "min                                       NaN   \n",
       "25%                                       NaN   \n",
       "50%                                       NaN   \n",
       "75%                                       NaN   \n",
       "max                                       NaN   \n",
       "std                                       NaN   \n",
       "\n",
       "                                       DeathCityGeo  \n",
       "count                                         10653  \n",
       "unique                                          239  \n",
       "top     CT\\n(41.57350273000003, -72.73830590799997)  \n",
       "freq                                           1452  \n",
       "mean                                            NaN  \n",
       "min                                             NaN  \n",
       "25%                                             NaN  \n",
       "50%                                             NaN  \n",
       "75%                                             NaN  \n",
       "max                                             NaN  \n",
       "std                                             NaN  \n",
       "\n",
       "[11 rows x 48 columns]"
      ]
     },
     "execution_count": 7,
     "metadata": {},
     "output_type": "execute_result"
    }
   ],
   "source": [
    "# look at summary stats\n",
    "df.describe(include='all')"
   ]
  },
  {
   "cell_type": "markdown",
   "id": "d7ff84c3",
   "metadata": {},
   "source": [
    "`Brief summary:` "
   ]
  },
  {
   "cell_type": "markdown",
   "id": "497ffd6b",
   "metadata": {},
   "source": [
    "## 3. Clean up data (preliminary): remove/imputate missing values"
   ]
  },
  {
   "cell_type": "markdown",
   "id": "74e6212c",
   "metadata": {},
   "source": [
    "### Next we counted up the null values in each column of the dataframe. We did expect to see a lot of null values across the board since there were many columns and it wouldn't make sense for every column in most of the rows to be non-null. For example it is unlikely to see multiple types of overdose for the same entry in the dataframe. (i.e someone overdosed on Cocaine, and Heroin, and Fentanyl, etc.)\n",
    "\n",
    "### The reason we wanted to do this is to determine which columns we wanted to clean up and fix, and which ones were not worth keeping for the project.\n",
    "\n",
    "### We also used df['col_name'].value_counts() to help us determine if a column was useful"
   ]
  },
  {
   "cell_type": "code",
   "execution_count": 8,
   "id": "f8a74fb5",
   "metadata": {},
   "outputs": [
    {
     "data": {
      "text/plain": [
       "Date                                 0\n",
       "Date Type                            0\n",
       "Age                                  0\n",
       "Sex                                  9\n",
       "Race                                29\n",
       "Ethnicity                         9079\n",
       "Residence City                     506\n",
       "Residence County                  1168\n",
       "Residence State                   1898\n",
       "Injury City                        178\n",
       "Injury County                     3322\n",
       "Injury State                      2913\n",
       "Injury Place                       290\n",
       "Description of Injury              804\n",
       "Death City                        1457\n",
       "Death County                      2564\n",
       "Death State                       3781\n",
       "Location                            22\n",
       "Location if Other                 9460\n",
       "Cause of Death                       0\n",
       "Manner of Death                      9\n",
       "Other Significant Conditions      9644\n",
       "Heroin                            7182\n",
       "Heroin death certificate (DC)     9914\n",
       "Cocaine                           6799\n",
       "Fentanyl                          3729\n",
       "Fentanyl Analogue                 9850\n",
       "Oxycodone                         9704\n",
       "Oxymorphone                      10497\n",
       "Ethanol                           7776\n",
       "Hydrocodone                      10491\n",
       "Benzodiazepine                    8155\n",
       "Methadone                         9716\n",
       "Meth/Amphetamine                 10527\n",
       "Amphet                           10295\n",
       "Tramad                           10370\n",
       "Hydromorphone                    10587\n",
       "Morphine (Not Heroin)            10599\n",
       "Xylazine                          9862\n",
       "Gabapentin                       10306\n",
       "Opiate NOS                       10528\n",
       "Heroin/Morph/Codeine              8564\n",
       "Other Opioid                     10526\n",
       "Any Opioid                        3034\n",
       "Other                             9962\n",
       "ResidenceCityGeo                   166\n",
       "InjuryCityGeo                      246\n",
       "DeathCityGeo                         1\n",
       "dtype: int64"
      ]
     },
     "execution_count": 8,
     "metadata": {},
     "output_type": "execute_result"
    }
   ],
   "source": [
    "# get the null value counts of each column\n",
    "df.isnull().sum()"
   ]
  },
  {
   "cell_type": "markdown",
   "id": "2c128c21",
   "metadata": {},
   "source": [
    "### `Date` and `DateType` are completely free of null values, and are very useful columns for trends so we decided we wanted both."
   ]
  },
  {
   "cell_type": "markdown",
   "id": "ecd2a4b4",
   "metadata": {},
   "source": [
    "### `Age`, `Sex`, and `Race` have very few null values, and are very useful columns for demographics so we decided it was worth keeping and cleaning up. We fixed them up through imputation by setting missing values to the mode of each respective column."
   ]
  },
  {
   "cell_type": "code",
   "execution_count": 9,
   "id": "746d340c",
   "metadata": {},
   "outputs": [],
   "source": [
    "# Calculate the mode of age, sex, and race column\n",
    "mode_age = df['Age'].mode()[0]\n",
    "mode_sex = df['Sex'].mode()[0]\n",
    "mode_race = df['Race'].mode()[0]\n",
    "\n",
    "# Impute missing values with the mode\n",
    "df['Age'].fillna(mode_age, inplace=True)\n",
    "\n",
    "df['Sex'].fillna(mode_sex, inplace=True)\n",
    "\n",
    "df['Race'].fillna(mode_race, inplace=True)"
   ]
  },
  {
   "cell_type": "markdown",
   "id": "47089645",
   "metadata": {},
   "source": [
    "### While `Ethnicity` is important and we would analyze it ideally, there are too many null values (approx 9000 nulls/10000 samples, so about 90% null rate) for us to create an accurate analysis with anything related to ethnicity. Thus, we had to drop this column."
   ]
  },
  {
   "cell_type": "code",
   "execution_count": 10,
   "id": "1add3232",
   "metadata": {},
   "outputs": [],
   "source": [
    "df = df.drop('Ethnicity', axis=1)"
   ]
  },
  {
   "cell_type": "markdown",
   "id": "bc75c6d3",
   "metadata": {},
   "source": [
    "### `Residence City`, `Residence County`, and `Residence State` will be kept for now, but tentatively. we did notice a heavy bias in the states column: 'Connecticut' was the most reported by a landslide. Thus, we may have to avoid nationwide conclusions/correlations since are data is so skewed. If anything, we can realistically only choose to focus on geographic patterns in 'Connecticut'. For the same reason, we will also keep `Injury City`, `Injury County`, `Injury State`, and `Injury Place`, `Death City`, `Death County`, `Death State` tentatively since they are all correlated to the heavily biased presence of 'Connecticut' in `Residence State`. These columns are too convoluted and dangerous to imputate, because they are all correlated with each other; also, we don't want to drop specific samples. Likely, we won't be using any of these columns. See below for the value counts of state:"
   ]
  },
  {
   "cell_type": "code",
   "execution_count": 11,
   "id": "1919acf3",
   "metadata": {},
   "outputs": [
    {
     "data": {
      "text/plain": [
       "Residence State\n",
       "CT    8460\n",
       "NY      72\n",
       "MA      60\n",
       "FL      34\n",
       "RI      18\n",
       "NJ      17\n",
       "NC      13\n",
       "ME       8\n",
       "PA       8\n",
       "TX       6\n",
       "CA       6\n",
       "VA       5\n",
       "NH       5\n",
       "VT       4\n",
       "CO       4\n",
       "SC       4\n",
       "LA       3\n",
       "IL       3\n",
       "OK       3\n",
       "GA       3\n",
       "AL       3\n",
       "WA       2\n",
       "TN       2\n",
       "MD       2\n",
       "OH       2\n",
       "IA       1\n",
       "IN       1\n",
       "MN       1\n",
       "KY       1\n",
       "SD       1\n",
       "MI       1\n",
       "DC       1\n",
       "WV       1\n",
       "WY       1\n",
       "Name: count, dtype: int64"
      ]
     },
     "execution_count": 11,
     "metadata": {},
     "output_type": "execute_result"
    }
   ],
   "source": [
    "df['Residence State'].value_counts()"
   ]
  },
  {
   "cell_type": "markdown",
   "id": "42ed179c",
   "metadata": {},
   "source": [
    "### We decided to drop the column `Description of Injury` because the values were not informative, stating the obvious. It is no surprise that the causes of death in this drug related deaths dataset was something along the lines of 'Substance Abuse'/'Substance abuse' or 'Drug Use', etc. See below for value counts of injury description:"
   ]
  },
  {
   "cell_type": "code",
   "execution_count": 12,
   "id": "bf05c6ae",
   "metadata": {},
   "outputs": [
    {
     "data": {
      "text/plain": [
       "Description of Injury\n",
       "Substance Abuse                                          3155\n",
       "Substance abuse                                          1205\n",
       "Drug Use                                                 1154\n",
       "Substance use                                             661\n",
       "Substance Use                                             648\n",
       "                                                         ... \n",
       "Took Opioids                                                1\n",
       "Submerged in Water While Intoxicated                        1\n",
       "Used Oxymorphone                                            1\n",
       "Toxic effects of ethanol and prescription medications       1\n",
       "Heroin use and misuse of medications                        1\n",
       "Name: count, Length: 478, dtype: int64"
      ]
     },
     "execution_count": 12,
     "metadata": {},
     "output_type": "execute_result"
    }
   ],
   "source": [
    "df['Description of Injury'].value_counts()"
   ]
  },
  {
   "cell_type": "code",
   "execution_count": 13,
   "id": "c268febe",
   "metadata": {},
   "outputs": [],
   "source": [
    "df = df.drop('Description of Injury', axis=1)"
   ]
  },
  {
   "cell_type": "markdown",
   "id": "38eb6865",
   "metadata": {},
   "source": [
    "### `Location` is not along the same lines as the geographic columns, though. This is more focused on where someone may have been right before dying. This is useful and has very few values that need cleaning, we will be able to fix them up through imputation of the mode."
   ]
  },
  {
   "cell_type": "code",
   "execution_count": 14,
   "id": "8cce8c96",
   "metadata": {},
   "outputs": [
    {
     "data": {
      "text/plain": [
       "Location\n",
       "Residence                     4799\n",
       "Hospital                      2336\n",
       "Other                         1559\n",
       "Decedent’s Home                776\n",
       "Hospital - ER/Outpatient       401\n",
       "Other (Specify)                362\n",
       "Hospital - Inpatient           246\n",
       "Hospital - Dead On Arrival      81\n",
       "Decedent's Home                 52\n",
       "Nursing Home                     9\n",
       "Convalescent Home                3\n",
       "Hospice                          3\n",
       "Assisted Living                  2\n",
       "Shelter                          1\n",
       "Hiospital                        1\n",
       "Hospice Facility                 1\n",
       "Name: count, dtype: int64"
      ]
     },
     "execution_count": 14,
     "metadata": {},
     "output_type": "execute_result"
    }
   ],
   "source": [
    "df['Location'].value_counts()"
   ]
  },
  {
   "cell_type": "code",
   "execution_count": 15,
   "id": "50dfc9c1",
   "metadata": {},
   "outputs": [],
   "source": [
    "# Calculate the mode of age, sex, and race column\n",
    "mode_location = df['Location'].mode()[0]\n",
    "\n",
    "# Impute missing values with the mode\n",
    "df['Location'].fillna(mode_location, inplace=True)"
   ]
  },
  {
   "cell_type": "markdown",
   "id": "db0cc9f1",
   "metadata": {},
   "source": [
    "### `Location if Other` is similar but too specific. Also, there are over 9400 null values, meaning this column is unusable and needs to be dropped."
   ]
  },
  {
   "cell_type": "code",
   "execution_count": 16,
   "id": "13154a45",
   "metadata": {},
   "outputs": [
    {
     "data": {
      "text/plain": [
       "Location if Other\n",
       "Friend's Residence     68\n",
       "Hotel                  42\n",
       "Friend's House         41\n",
       "Friend's Home          36\n",
       "In Vehicle             28\n",
       "                       ..\n",
       "Girlfriend's apt.       1\n",
       "Uncle's House           1\n",
       "Abandoned Garage        1\n",
       "Temporary Residence     1\n",
       "Parked vehicle          1\n",
       "Name: count, Length: 543, dtype: int64"
      ]
     },
     "execution_count": 16,
     "metadata": {},
     "output_type": "execute_result"
    }
   ],
   "source": [
    "df['Location if Other'].value_counts()"
   ]
  },
  {
   "cell_type": "code",
   "execution_count": 17,
   "id": "70add173",
   "metadata": {},
   "outputs": [],
   "source": [
    "df = df.drop('Location if Other', axis=1)"
   ]
  },
  {
   "cell_type": "markdown",
   "id": "faa09f46",
   "metadata": {},
   "source": [
    "### `Cause of Death` is very useful and has no null values. This will definetely be kept."
   ]
  },
  {
   "cell_type": "markdown",
   "id": "4e69316b",
   "metadata": {},
   "source": [
    "### `Manner of Death` is not useful at all. It is obvious that most causes of death are going to be accidents due to the title. See values below:"
   ]
  },
  {
   "cell_type": "code",
   "execution_count": 18,
   "id": "88bd07af",
   "metadata": {},
   "outputs": [
    {
     "data": {
      "text/plain": [
       "Manner of Death\n",
       "Accident    10616\n",
       "Pending        14\n",
       "accident       13\n",
       "ACCIDENT        1\n",
       "Natural         1\n",
       "Name: count, dtype: int64"
      ]
     },
     "execution_count": 18,
     "metadata": {},
     "output_type": "execute_result"
    }
   ],
   "source": [
    "df['Manner of Death'].value_counts()"
   ]
  },
  {
   "cell_type": "code",
   "execution_count": 19,
   "id": "2051319b",
   "metadata": {},
   "outputs": [],
   "source": [
    "df = df.drop('Manner of Death', axis=1)"
   ]
  },
  {
   "cell_type": "markdown",
   "id": "10e069c7",
   "metadata": {},
   "source": [
    "### `Other Significant Conditions` has too many null values over 9600 meaning we have to drop the column. Also, the conditions are too descriptive and specific to be groupable."
   ]
  },
  {
   "cell_type": "code",
   "execution_count": 20,
   "id": "1b22e0aa",
   "metadata": {},
   "outputs": [
    {
     "data": {
      "text/plain": [
       "Fentanyl\n",
       "Y           6923\n",
       "Y POPS         1\n",
       "Y (PTCH)       1\n",
       "Name: count, dtype: int64"
      ]
     },
     "execution_count": 20,
     "metadata": {},
     "output_type": "execute_result"
    }
   ],
   "source": [
    "df.iloc[:, 21].value_counts()"
   ]
  },
  {
   "cell_type": "code",
   "execution_count": 21,
   "id": "2d6e3748",
   "metadata": {},
   "outputs": [],
   "source": [
    "df = df.drop('Other Significant Conditions ', axis=1)"
   ]
  },
  {
   "cell_type": "markdown",
   "id": "1c86b427",
   "metadata": {},
   "source": [
    "### The remaining columns from `Heroin` to `Other` are all extremely similar yet stored in a strange format. The storage method will be standardized, but first we will justify what we kept and why. The pattern for all of these columns shared in the dataframe was essentially a Y to indicate if it was present. For example, there were 3472 samples of Heroin based accidental deaths. (see below)"
   ]
  },
  {
   "cell_type": "code",
   "execution_count": 22,
   "id": "5f94e87c",
   "metadata": {},
   "outputs": [
    {
     "data": {
      "text/plain": [
       "Heroin\n",
       "Y    3472\n",
       "Name: count, dtype: int64"
      ]
     },
     "execution_count": 22,
     "metadata": {},
     "output_type": "execute_result"
    }
   ],
   "source": [
    "df['Heroin'].value_counts()"
   ]
  },
  {
   "cell_type": "markdown",
   "id": "b77f3c9a",
   "metadata": {},
   "source": [
    "### `Heroin death certificate (DC)` is also not very useful since there is already a `Heroin` column, on top of that there way too many null values for it to be reliable."
   ]
  },
  {
   "cell_type": "code",
   "execution_count": 23,
   "id": "ffc88969",
   "metadata": {},
   "outputs": [],
   "source": [
    "df = df.drop('Heroin death certificate (DC)', axis=1)"
   ]
  },
  {
   "cell_type": "markdown",
   "id": "dc3f6237",
   "metadata": {},
   "source": [
    "### There were some exceptions to this rule. For `Fentanyl` there were some values that weren't exactly Y. Same went for `Ethanol`, `Morphine (Not Heroin)`, and `Gabapentin` (see below).\n",
    "\n",
    "### However, we will standardize these to a boolean as mentioned before in a later step."
   ]
  },
  {
   "cell_type": "code",
   "execution_count": 24,
   "id": "3391051c",
   "metadata": {},
   "outputs": [
    {
     "data": {
      "text/plain": [
       "Fentanyl\n",
       "Y           6923\n",
       "Y POPS         1\n",
       "Y (PTCH)       1\n",
       "Name: count, dtype: int64"
      ]
     },
     "execution_count": 24,
     "metadata": {},
     "output_type": "execute_result"
    }
   ],
   "source": [
    "df['Fentanyl'].value_counts()"
   ]
  },
  {
   "cell_type": "code",
   "execution_count": 25,
   "id": "4e738166",
   "metadata": {},
   "outputs": [
    {
     "data": {
      "text/plain": [
       "Ethanol\n",
       "Y    2877\n",
       "P       1\n",
       "Name: count, dtype: int64"
      ]
     },
     "execution_count": 25,
     "metadata": {},
     "output_type": "execute_result"
    }
   ],
   "source": [
    "df['Ethanol'].value_counts()"
   ]
  },
  {
   "cell_type": "code",
   "execution_count": 26,
   "id": "625d0886",
   "metadata": {},
   "outputs": [
    {
     "data": {
      "text/plain": [
       "Morphine (Not Heroin)\n",
       "Y                   52\n",
       "NO RX BUT STRAWS     1\n",
       "STOLE MEDS           1\n",
       "PCP NEG              1\n",
       "Name: count, dtype: int64"
      ]
     },
     "execution_count": 26,
     "metadata": {},
     "output_type": "execute_result"
    }
   ],
   "source": [
    "df['Morphine (Not Heroin)'].value_counts()"
   ]
  },
  {
   "cell_type": "code",
   "execution_count": 27,
   "id": "51a09b58",
   "metadata": {},
   "outputs": [
    {
     "data": {
      "text/plain": [
       "Gabapentin\n",
       "Y    347\n",
       "y      1\n",
       "Name: count, dtype: int64"
      ]
     },
     "execution_count": 27,
     "metadata": {},
     "output_type": "execute_result"
    }
   ],
   "source": [
    "df['Gabapentin'].value_counts()"
   ]
  },
  {
   "cell_type": "markdown",
   "id": "40d471ce",
   "metadata": {},
   "source": [
    "### There were also a few more interesting forms of drug type representation. Note here that `Heroin/Morph/Codeine` is a combination of the categories Heroin, morphine, codeine, etc. We decided that since these could be determined from each individual column, that we could drop the grouped columns. `Other Opiod` is too specific and there are not enough values for it to be worth breaking up, we can simpy drop this column as well. `Any Opiod` just indicates if any opiod was taken, which again, we can determine from the individual columns and can drop this as well. `Other` for the same reason is too specific and there are not enough values for it to be worth breaking up, we can simply drop this column too.\n",
    "\n",
    "### See below for value counts of the mentioned columns:"
   ]
  },
  {
   "cell_type": "code",
   "execution_count": 28,
   "id": "0f2e3f32",
   "metadata": {},
   "outputs": [
    {
     "data": {
      "text/plain": [
       "Heroin/Morph/Codeine\n",
       "Y    2045\n",
       "y      45\n",
       "Name: count, dtype: int64"
      ]
     },
     "execution_count": 28,
     "metadata": {},
     "output_type": "execute_result"
    }
   ],
   "source": [
    "df['Heroin/Morph/Codeine'].value_counts()"
   ]
  },
  {
   "cell_type": "code",
   "execution_count": 29,
   "id": "8d422976",
   "metadata": {},
   "outputs": [
    {
     "data": {
      "text/plain": [
       "Other Opioid\n",
       "Y                      90\n",
       "Buprenorphine          25\n",
       "PCP                     5\n",
       "Difluro                 3\n",
       "pcp                     2\n",
       "MDMA, Buprenorphine     1\n",
       "ketamine                1\n",
       "Mitragynine             1\n",
       "Name: count, dtype: int64"
      ]
     },
     "execution_count": 29,
     "metadata": {},
     "output_type": "execute_result"
    }
   ],
   "source": [
    "df['Other Opioid'].value_counts()"
   ]
  },
  {
   "cell_type": "code",
   "execution_count": 30,
   "id": "e7729575",
   "metadata": {},
   "outputs": [
    {
     "data": {
      "text/plain": [
       "Any Opioid\n",
       "Y    7612\n",
       "N       8\n",
       "Name: count, dtype: int64"
      ]
     },
     "execution_count": 30,
     "metadata": {},
     "output_type": "execute_result"
    }
   ],
   "source": [
    "df['Any Opioid'].value_counts()"
   ]
  },
  {
   "cell_type": "code",
   "execution_count": 31,
   "id": "da9a0803",
   "metadata": {},
   "outputs": [
    {
     "data": {
      "text/plain": [
       "Other\n",
       "PCP                    123\n",
       "Bupren                  76\n",
       "Xylazine                65\n",
       "morphine                29\n",
       "HYDROMORPH              28\n",
       "                      ... \n",
       "MORPH/COD                1\n",
       "DIFLOURO                 1\n",
       "propofol                 1\n",
       "Buprnor                  1\n",
       "MDMA, Buprenorphine      1\n",
       "Name: count, Length: 147, dtype: int64"
      ]
     },
     "execution_count": 31,
     "metadata": {},
     "output_type": "execute_result"
    }
   ],
   "source": [
    "df['Other'].value_counts()"
   ]
  },
  {
   "cell_type": "code",
   "execution_count": 32,
   "id": "23488114",
   "metadata": {},
   "outputs": [],
   "source": [
    "df = df.drop('Heroin/Morph/Codeine', axis=1)\n",
    "df = df.drop('Other Opioid', axis=1)\n",
    "df = df.drop('Any Opioid', axis=1)\n",
    "df = df.drop('Other', axis=1)"
   ]
  },
  {
   "cell_type": "markdown",
   "id": "164e0e02",
   "metadata": {},
   "source": [
    "### As mentioned above, we will standardize any value to True or False to indicate the drug's presence"
   ]
  },
  {
   "cell_type": "code",
   "execution_count": 33,
   "id": "305f1b17",
   "metadata": {},
   "outputs": [],
   "source": [
    "df['Heroin'] = df['Heroin'].notnull()\n",
    "df['Cocaine'] = df['Cocaine'].notnull()\n",
    "df['Fentanyl'] = df['Fentanyl'].notnull()\n",
    "df['Fentanyl Analogue'] = df['Fentanyl Analogue'].notnull()\n",
    "df['Oxycodone'] = df['Oxycodone'].notnull()\n",
    "df['Oxymorphone'] = df['Oxymorphone'].notnull()\n",
    "df['Ethanol'] = df['Ethanol'].notnull()\n",
    "df['Hydrocodone'] = df['Hydrocodone'].notnull()\n",
    "df['Benzodiazepine'] = df['Benzodiazepine'].notnull()\n",
    "df['Methadone'] = df['Methadone'].notnull()\n",
    "df['Meth/Amphetamine'] = df['Meth/Amphetamine'].notnull()\n",
    "df['Amphet'] = df['Amphet'].notnull()\n",
    "df['Tramad'] = df['Tramad'].notnull()\n",
    "df['Hydromorphone'] = df['Hydromorphone'].notnull()\n",
    "df['Morphine (Not Heroin)'] = df['Morphine (Not Heroin)'].notnull()\n",
    "df['Xylazine'] = df['Xylazine'].notnull()\n",
    "df['Gabapentin'] = df['Gabapentin'].notnull()\n",
    "df['Opiate NOS'] = df['Opiate NOS'].notnull()"
   ]
  },
  {
   "cell_type": "markdown",
   "id": "136bca14",
   "metadata": {},
   "source": [
    "### We will drop `ResidenceCityGeo`, `InjuryCityGeo`, `DeathCityGeo` because they are exact longitude and latitude coordinates and we already know the location through prior fields. "
   ]
  },
  {
   "cell_type": "code",
   "execution_count": 34,
   "id": "e169868a",
   "metadata": {},
   "outputs": [],
   "source": [
    "df = df.drop('ResidenceCityGeo', axis=1)\n",
    "df = df.drop('InjuryCityGeo', axis=1)\n",
    "df = df.drop('DeathCityGeo', axis=1)"
   ]
  },
  {
   "cell_type": "markdown",
   "id": "c8977bd5",
   "metadata": {},
   "source": [
    "### The aftermath: All columns that are not geographically based are fully nonnull, as we have not yet decided what to do with geographical data yet since it is so heavily biased towards the Connecticut area."
   ]
  },
  {
   "cell_type": "code",
   "execution_count": 35,
   "id": "45bdb8cb",
   "metadata": {},
   "outputs": [
    {
     "data": {
      "text/plain": [
       "Date                        0\n",
       "Date Type                   0\n",
       "Age                         0\n",
       "Sex                         0\n",
       "Race                        0\n",
       "Residence City            506\n",
       "Residence County         1168\n",
       "Residence State          1898\n",
       "Injury City               178\n",
       "Injury County            3322\n",
       "Injury State             2913\n",
       "Injury Place              290\n",
       "Death City               1457\n",
       "Death County             2564\n",
       "Death State              3781\n",
       "Location                    0\n",
       "Cause of Death              0\n",
       "Heroin                      0\n",
       "Cocaine                     0\n",
       "Fentanyl                    0\n",
       "Fentanyl Analogue           0\n",
       "Oxycodone                   0\n",
       "Oxymorphone                 0\n",
       "Ethanol                     0\n",
       "Hydrocodone                 0\n",
       "Benzodiazepine              0\n",
       "Methadone                   0\n",
       "Meth/Amphetamine            0\n",
       "Amphet                      0\n",
       "Tramad                      0\n",
       "Hydromorphone               0\n",
       "Morphine (Not Heroin)       0\n",
       "Xylazine                    0\n",
       "Gabapentin                  0\n",
       "Opiate NOS                  0\n",
       "dtype: int64"
      ]
     },
     "execution_count": 35,
     "metadata": {},
     "output_type": "execute_result"
    }
   ],
   "source": [
    "df.isnull().sum()"
   ]
  },
  {
   "cell_type": "markdown",
   "id": "537077d5",
   "metadata": {},
   "source": [
    "## 4. Identify patterns and trends:"
   ]
  },
  {
   "cell_type": "code",
   "execution_count": 36,
   "id": "079322bd",
   "metadata": {},
   "outputs": [
    {
     "data": {
      "text/html": [
       "<div>\n",
       "<style scoped>\n",
       "    .dataframe tbody tr th:only-of-type {\n",
       "        vertical-align: middle;\n",
       "    }\n",
       "\n",
       "    .dataframe tbody tr th {\n",
       "        vertical-align: top;\n",
       "    }\n",
       "\n",
       "    .dataframe thead th {\n",
       "        text-align: right;\n",
       "    }\n",
       "</style>\n",
       "<table border=\"1\" class=\"dataframe\">\n",
       "  <thead>\n",
       "    <tr style=\"text-align: right;\">\n",
       "      <th></th>\n",
       "      <th>Date</th>\n",
       "      <th>Date Type</th>\n",
       "      <th>Age</th>\n",
       "      <th>Sex</th>\n",
       "      <th>Race</th>\n",
       "      <th>Residence City</th>\n",
       "      <th>Residence County</th>\n",
       "      <th>Residence State</th>\n",
       "      <th>Injury City</th>\n",
       "      <th>Injury County</th>\n",
       "      <th>...</th>\n",
       "      <th>Benzodiazepine</th>\n",
       "      <th>Methadone</th>\n",
       "      <th>Meth/Amphetamine</th>\n",
       "      <th>Amphet</th>\n",
       "      <th>Tramad</th>\n",
       "      <th>Hydromorphone</th>\n",
       "      <th>Morphine (Not Heroin)</th>\n",
       "      <th>Xylazine</th>\n",
       "      <th>Gabapentin</th>\n",
       "      <th>Opiate NOS</th>\n",
       "    </tr>\n",
       "  </thead>\n",
       "  <tbody>\n",
       "    <tr>\n",
       "      <th>0</th>\n",
       "      <td>2012-05-29</td>\n",
       "      <td>Date of death</td>\n",
       "      <td>37</td>\n",
       "      <td>Male</td>\n",
       "      <td>Black</td>\n",
       "      <td>STAMFORD</td>\n",
       "      <td>FAIRFIELD</td>\n",
       "      <td>NaN</td>\n",
       "      <td>STAMFORD</td>\n",
       "      <td>NaN</td>\n",
       "      <td>...</td>\n",
       "      <td>False</td>\n",
       "      <td>False</td>\n",
       "      <td>False</td>\n",
       "      <td>False</td>\n",
       "      <td>False</td>\n",
       "      <td>False</td>\n",
       "      <td>False</td>\n",
       "      <td>False</td>\n",
       "      <td>False</td>\n",
       "      <td>False</td>\n",
       "    </tr>\n",
       "    <tr>\n",
       "      <th>1</th>\n",
       "      <td>2012-06-27</td>\n",
       "      <td>Date of death</td>\n",
       "      <td>37</td>\n",
       "      <td>Male</td>\n",
       "      <td>White</td>\n",
       "      <td>NORWICH</td>\n",
       "      <td>NEW LONDON</td>\n",
       "      <td>NaN</td>\n",
       "      <td>NORWICH</td>\n",
       "      <td>NaN</td>\n",
       "      <td>...</td>\n",
       "      <td>False</td>\n",
       "      <td>False</td>\n",
       "      <td>False</td>\n",
       "      <td>False</td>\n",
       "      <td>False</td>\n",
       "      <td>False</td>\n",
       "      <td>False</td>\n",
       "      <td>False</td>\n",
       "      <td>False</td>\n",
       "      <td>False</td>\n",
       "    </tr>\n",
       "    <tr>\n",
       "      <th>2</th>\n",
       "      <td>2014-03-24</td>\n",
       "      <td>Date of death</td>\n",
       "      <td>28</td>\n",
       "      <td>Male</td>\n",
       "      <td>White</td>\n",
       "      <td>HEBRON</td>\n",
       "      <td>NaN</td>\n",
       "      <td>NaN</td>\n",
       "      <td>HEBRON</td>\n",
       "      <td>NaN</td>\n",
       "      <td>...</td>\n",
       "      <td>False</td>\n",
       "      <td>False</td>\n",
       "      <td>False</td>\n",
       "      <td>False</td>\n",
       "      <td>False</td>\n",
       "      <td>False</td>\n",
       "      <td>False</td>\n",
       "      <td>False</td>\n",
       "      <td>False</td>\n",
       "      <td>False</td>\n",
       "    </tr>\n",
       "    <tr>\n",
       "      <th>3</th>\n",
       "      <td>2014-12-31</td>\n",
       "      <td>Date of death</td>\n",
       "      <td>26</td>\n",
       "      <td>Female</td>\n",
       "      <td>White</td>\n",
       "      <td>BALTIC</td>\n",
       "      <td>NaN</td>\n",
       "      <td>NaN</td>\n",
       "      <td>NaN</td>\n",
       "      <td>NaN</td>\n",
       "      <td>...</td>\n",
       "      <td>False</td>\n",
       "      <td>False</td>\n",
       "      <td>False</td>\n",
       "      <td>False</td>\n",
       "      <td>False</td>\n",
       "      <td>False</td>\n",
       "      <td>False</td>\n",
       "      <td>False</td>\n",
       "      <td>False</td>\n",
       "      <td>False</td>\n",
       "    </tr>\n",
       "    <tr>\n",
       "      <th>4</th>\n",
       "      <td>2016-01-16</td>\n",
       "      <td>Date of death</td>\n",
       "      <td>41</td>\n",
       "      <td>Male</td>\n",
       "      <td>White</td>\n",
       "      <td>SHELTON</td>\n",
       "      <td>FAIRFIELD</td>\n",
       "      <td>CT</td>\n",
       "      <td>SHELTON</td>\n",
       "      <td>NaN</td>\n",
       "      <td>...</td>\n",
       "      <td>False</td>\n",
       "      <td>False</td>\n",
       "      <td>False</td>\n",
       "      <td>False</td>\n",
       "      <td>False</td>\n",
       "      <td>False</td>\n",
       "      <td>False</td>\n",
       "      <td>False</td>\n",
       "      <td>False</td>\n",
       "      <td>False</td>\n",
       "    </tr>\n",
       "    <tr>\n",
       "      <th>...</th>\n",
       "      <td>...</td>\n",
       "      <td>...</td>\n",
       "      <td>...</td>\n",
       "      <td>...</td>\n",
       "      <td>...</td>\n",
       "      <td>...</td>\n",
       "      <td>...</td>\n",
       "      <td>...</td>\n",
       "      <td>...</td>\n",
       "      <td>...</td>\n",
       "      <td>...</td>\n",
       "      <td>...</td>\n",
       "      <td>...</td>\n",
       "      <td>...</td>\n",
       "      <td>...</td>\n",
       "      <td>...</td>\n",
       "      <td>...</td>\n",
       "      <td>...</td>\n",
       "      <td>...</td>\n",
       "      <td>...</td>\n",
       "      <td>...</td>\n",
       "    </tr>\n",
       "    <tr>\n",
       "      <th>10649</th>\n",
       "      <td>2022-08-15</td>\n",
       "      <td>Date of death</td>\n",
       "      <td>60</td>\n",
       "      <td>Male</td>\n",
       "      <td>White</td>\n",
       "      <td>SOUTHINGTON</td>\n",
       "      <td>HARTFORD</td>\n",
       "      <td>CT</td>\n",
       "      <td>SOUTHINGTON</td>\n",
       "      <td>HARTFORD</td>\n",
       "      <td>...</td>\n",
       "      <td>False</td>\n",
       "      <td>True</td>\n",
       "      <td>False</td>\n",
       "      <td>False</td>\n",
       "      <td>False</td>\n",
       "      <td>False</td>\n",
       "      <td>False</td>\n",
       "      <td>False</td>\n",
       "      <td>False</td>\n",
       "      <td>False</td>\n",
       "    </tr>\n",
       "    <tr>\n",
       "      <th>10650</th>\n",
       "      <td>2022-01-30</td>\n",
       "      <td>Date of death</td>\n",
       "      <td>65</td>\n",
       "      <td>Male</td>\n",
       "      <td>White</td>\n",
       "      <td>HARTFORD</td>\n",
       "      <td>HARTFORD</td>\n",
       "      <td>CT</td>\n",
       "      <td>HARTFORD</td>\n",
       "      <td>HARTFORD</td>\n",
       "      <td>...</td>\n",
       "      <td>False</td>\n",
       "      <td>False</td>\n",
       "      <td>False</td>\n",
       "      <td>False</td>\n",
       "      <td>False</td>\n",
       "      <td>False</td>\n",
       "      <td>False</td>\n",
       "      <td>False</td>\n",
       "      <td>True</td>\n",
       "      <td>False</td>\n",
       "    </tr>\n",
       "    <tr>\n",
       "      <th>10651</th>\n",
       "      <td>2022-09-17</td>\n",
       "      <td>Date of death</td>\n",
       "      <td>41</td>\n",
       "      <td>Male</td>\n",
       "      <td>Black or African American</td>\n",
       "      <td>HARTFORD</td>\n",
       "      <td>HARTFORD</td>\n",
       "      <td>CT</td>\n",
       "      <td>HARTFORD</td>\n",
       "      <td>HARTFORD</td>\n",
       "      <td>...</td>\n",
       "      <td>False</td>\n",
       "      <td>False</td>\n",
       "      <td>False</td>\n",
       "      <td>False</td>\n",
       "      <td>False</td>\n",
       "      <td>False</td>\n",
       "      <td>False</td>\n",
       "      <td>True</td>\n",
       "      <td>False</td>\n",
       "      <td>False</td>\n",
       "    </tr>\n",
       "    <tr>\n",
       "      <th>10652</th>\n",
       "      <td>2022-12-20</td>\n",
       "      <td>Date of death</td>\n",
       "      <td>59</td>\n",
       "      <td>Male</td>\n",
       "      <td>White</td>\n",
       "      <td>CHESHIRE</td>\n",
       "      <td>NEW HAVEN</td>\n",
       "      <td>CT</td>\n",
       "      <td>CHESHIRE</td>\n",
       "      <td>NEW HAVEN</td>\n",
       "      <td>...</td>\n",
       "      <td>False</td>\n",
       "      <td>False</td>\n",
       "      <td>False</td>\n",
       "      <td>False</td>\n",
       "      <td>False</td>\n",
       "      <td>False</td>\n",
       "      <td>False</td>\n",
       "      <td>True</td>\n",
       "      <td>False</td>\n",
       "      <td>False</td>\n",
       "    </tr>\n",
       "    <tr>\n",
       "      <th>10653</th>\n",
       "      <td>2022-09-08</td>\n",
       "      <td>Date of death</td>\n",
       "      <td>49</td>\n",
       "      <td>Male</td>\n",
       "      <td>White</td>\n",
       "      <td>WEATHERSFIELD</td>\n",
       "      <td>NaN</td>\n",
       "      <td>NaN</td>\n",
       "      <td>WETHERSFIELD</td>\n",
       "      <td>HARTFORD</td>\n",
       "      <td>...</td>\n",
       "      <td>False</td>\n",
       "      <td>False</td>\n",
       "      <td>False</td>\n",
       "      <td>False</td>\n",
       "      <td>False</td>\n",
       "      <td>False</td>\n",
       "      <td>False</td>\n",
       "      <td>False</td>\n",
       "      <td>False</td>\n",
       "      <td>False</td>\n",
       "    </tr>\n",
       "  </tbody>\n",
       "</table>\n",
       "<p>10654 rows × 35 columns</p>\n",
       "</div>"
      ],
      "text/plain": [
       "            Date      Date Type  Age     Sex                       Race  \\\n",
       "0     2012-05-29  Date of death   37    Male                      Black   \n",
       "1     2012-06-27  Date of death   37    Male                      White   \n",
       "2     2014-03-24  Date of death   28    Male                      White   \n",
       "3     2014-12-31  Date of death   26  Female                      White   \n",
       "4     2016-01-16  Date of death   41    Male                      White   \n",
       "...          ...            ...  ...     ...                        ...   \n",
       "10649 2022-08-15  Date of death   60    Male                      White   \n",
       "10650 2022-01-30  Date of death   65    Male                      White   \n",
       "10651 2022-09-17  Date of death   41    Male  Black or African American   \n",
       "10652 2022-12-20  Date of death   59    Male                      White   \n",
       "10653 2022-09-08  Date of death   49    Male                      White   \n",
       "\n",
       "      Residence City Residence County Residence State   Injury City  \\\n",
       "0           STAMFORD        FAIRFIELD             NaN      STAMFORD   \n",
       "1            NORWICH       NEW LONDON             NaN       NORWICH   \n",
       "2             HEBRON              NaN             NaN        HEBRON   \n",
       "3             BALTIC              NaN             NaN           NaN   \n",
       "4            SHELTON        FAIRFIELD              CT       SHELTON   \n",
       "...              ...              ...             ...           ...   \n",
       "10649    SOUTHINGTON         HARTFORD              CT   SOUTHINGTON   \n",
       "10650       HARTFORD         HARTFORD              CT      HARTFORD   \n",
       "10651       HARTFORD         HARTFORD              CT      HARTFORD   \n",
       "10652       CHESHIRE        NEW HAVEN              CT      CHESHIRE   \n",
       "10653  WEATHERSFIELD              NaN             NaN  WETHERSFIELD   \n",
       "\n",
       "      Injury County  ... Benzodiazepine Methadone Meth/Amphetamine Amphet  \\\n",
       "0               NaN  ...          False     False            False  False   \n",
       "1               NaN  ...          False     False            False  False   \n",
       "2               NaN  ...          False     False            False  False   \n",
       "3               NaN  ...          False     False            False  False   \n",
       "4               NaN  ...          False     False            False  False   \n",
       "...             ...  ...            ...       ...              ...    ...   \n",
       "10649      HARTFORD  ...          False      True            False  False   \n",
       "10650      HARTFORD  ...          False     False            False  False   \n",
       "10651      HARTFORD  ...          False     False            False  False   \n",
       "10652     NEW HAVEN  ...          False     False            False  False   \n",
       "10653      HARTFORD  ...          False     False            False  False   \n",
       "\n",
       "      Tramad Hydromorphone Morphine (Not Heroin)  Xylazine  Gabapentin  \\\n",
       "0      False         False                 False     False       False   \n",
       "1      False         False                 False     False       False   \n",
       "2      False         False                 False     False       False   \n",
       "3      False         False                 False     False       False   \n",
       "4      False         False                 False     False       False   \n",
       "...      ...           ...                   ...       ...         ...   \n",
       "10649  False         False                 False     False       False   \n",
       "10650  False         False                 False     False        True   \n",
       "10651  False         False                 False      True       False   \n",
       "10652  False         False                 False      True       False   \n",
       "10653  False         False                 False     False       False   \n",
       "\n",
       "       Opiate NOS  \n",
       "0           False  \n",
       "1           False  \n",
       "2           False  \n",
       "3           False  \n",
       "4           False  \n",
       "...           ...  \n",
       "10649       False  \n",
       "10650       False  \n",
       "10651       False  \n",
       "10652       False  \n",
       "10653       False  \n",
       "\n",
       "[10654 rows x 35 columns]"
      ]
     },
     "execution_count": 36,
     "metadata": {},
     "output_type": "execute_result"
    }
   ],
   "source": [
    "df"
   ]
  },
  {
   "cell_type": "code",
   "execution_count": 37,
   "id": "8b778c59",
   "metadata": {},
   "outputs": [
    {
     "name": "stdout",
     "output_type": "stream",
     "text": [
      "<class 'pandas.core.frame.DataFrame'>\n",
      "RangeIndex: 10654 entries, 0 to 10653\n",
      "Data columns (total 35 columns):\n",
      " #   Column                 Non-Null Count  Dtype         \n",
      "---  ------                 --------------  -----         \n",
      " 0   Date                   10654 non-null  datetime64[us]\n",
      " 1   Date Type              10654 non-null  object        \n",
      " 2   Age                    10654 non-null  int64         \n",
      " 3   Sex                    10654 non-null  object        \n",
      " 4   Race                   10654 non-null  object        \n",
      " 5   Residence City         10148 non-null  object        \n",
      " 6   Residence County       9486 non-null   object        \n",
      " 7   Residence State        8756 non-null   object        \n",
      " 8   Injury City            10476 non-null  object        \n",
      " 9   Injury County          7332 non-null   object        \n",
      " 10  Injury State           7741 non-null   object        \n",
      " 11  Injury Place           10364 non-null  object        \n",
      " 12  Death City             9197 non-null   object        \n",
      " 13  Death County           8090 non-null   object        \n",
      " 14  Death State            6873 non-null   object        \n",
      " 15  Location               10654 non-null  object        \n",
      " 16  Cause of Death         10654 non-null  object        \n",
      " 17  Heroin                 10654 non-null  bool          \n",
      " 18  Cocaine                10654 non-null  bool          \n",
      " 19  Fentanyl               10654 non-null  bool          \n",
      " 20  Fentanyl Analogue      10654 non-null  bool          \n",
      " 21  Oxycodone              10654 non-null  bool          \n",
      " 22  Oxymorphone            10654 non-null  bool          \n",
      " 23  Ethanol                10654 non-null  bool          \n",
      " 24  Hydrocodone            10654 non-null  bool          \n",
      " 25  Benzodiazepine         10654 non-null  bool          \n",
      " 26  Methadone              10654 non-null  bool          \n",
      " 27  Meth/Amphetamine       10654 non-null  bool          \n",
      " 28  Amphet                 10654 non-null  bool          \n",
      " 29  Tramad                 10654 non-null  bool          \n",
      " 30  Hydromorphone          10654 non-null  bool          \n",
      " 31  Morphine (Not Heroin)  10654 non-null  bool          \n",
      " 32  Xylazine               10654 non-null  bool          \n",
      " 33  Gabapentin             10654 non-null  bool          \n",
      " 34  Opiate NOS             10654 non-null  bool          \n",
      "dtypes: bool(18), datetime64[us](1), int64(1), object(15)\n",
      "memory usage: 1.6+ MB\n"
     ]
    }
   ],
   "source": [
    "df.info()"
   ]
  },
  {
   "cell_type": "code",
   "execution_count": 38,
   "id": "0636b6e8",
   "metadata": {},
   "outputs": [
    {
     "data": {
      "image/png": "[encoded data removed]",
      "text/plain": [
       "<Figure size 800x600 with 1 Axes>"
      ]
     },
     "metadata": {},
     "output_type": "display_data"
    }
   ],
   "source": [
    "plt.figure(figsize=(8, 6))\n",
    "sns.countplot(x='Sex', data=df)\n",
    "plt.title('Gender Distribution of the Deceased')\n",
    "plt.xlabel('Gender')\n",
    "plt.ylabel('Count')\n",
    "plt.grid(axis='y')\n",
    "plt.show()"
   ]
  },
  {
   "cell_type": "code",
   "execution_count": 39,
   "id": "fbbbe2cb",
   "metadata": {},
   "outputs": [
    {
     "data": {
      "image/png": "[encoded data removed]",
      "text/plain": [
       "<Figure size 1000x600 with 1 Axes>"
      ]
     },
     "metadata": {},
     "output_type": "display_data"
    }
   ],
   "source": [
    "yearly_trend = df.resample('Y', on='Date').size()\n",
    "\n",
    "plt.figure(figsize=(10, 6))\n",
    "sns.lineplot(x=yearly_trend.index.year, y=yearly_trend.values)\n",
    "plt.title('Yearly Trend of Deaths')\n",
    "plt.xlabel('Year')\n",
    "plt.ylabel('Number of Deaths')\n",
    "plt.grid(True)\n",
    "plt.show()"
   ]
  },
  {
   "cell_type": "code",
   "execution_count": 43,
   "id": "bf7eb240",
   "metadata": {},
   "outputs": [
    {
     "name": "stdout",
     "output_type": "stream",
     "text": [
      "Age\n",
      "36    233\n",
      "33    223\n",
      "39    221\n",
      "35    217\n",
      "37    213\n",
      "     ... \n",
      "84      1\n",
      "81      1\n",
      "87      1\n",
      "76      1\n",
      "13      1\n",
      "Name: count, Length: 68, dtype: int64\n",
      "T-statistic: -0.7764994110508338, P-value: 0.4374714098278931\n",
      "There is not a statistically significant difference between average male and female drug overdose\n"
     ]
    }
   ],
   "source": [
    "df_male = df[df['Sex'] == 'Male']\n",
    "df_female = df[df['Sex'] == 'Female']\n",
    "\n",
    "print(df_male['Age'].value_counts())\n",
    "\n",
    "alpha = .05\n",
    "t_stat, p_value = stats.ttest_ind(df_male['Age'], df_female['Age'])\n",
    "\n",
    "print(f\"T-statistic: {t_stat}, P-value: {p_value}\")\n",
    "\n",
    "if (p_value < alpha):\n",
    "    print(\"There is a statistically significant difference between average male and female drug overdose\")\n",
    "else:\n",
    "    print(\"There is not a statistically significant difference between average male and female drug overdose\")"
   ]
  },
  {
   "cell_type": "code",
   "execution_count": 42,
   "id": "6e50b311",
   "metadata": {},
   "outputs": [
    {
     "data": {
      "text/plain": [
       "0        37\n",
       "1        37\n",
       "2        28\n",
       "4        41\n",
       "5        57\n",
       "         ..\n",
       "10649    60\n",
       "10650    65\n",
       "10651    41\n",
       "10652    59\n",
       "10653    49\n",
       "Name: Age, Length: 7899, dtype: int64"
      ]
     },
     "execution_count": 42,
     "metadata": {},
     "output_type": "execute_result"
    }
   ],
   "source": [
    "df_male['Age']"
   ]
  },
  {
   "cell_type": "code",
   "execution_count": 44,
   "id": "763c5c1b",
   "metadata": {},
   "outputs": [
    {
     "data": {
      "text/plain": [
       "Race\n",
       "White                               9107\n",
       "Black                                809\n",
       "Black or African American            561\n",
       "Unknown                               59\n",
       "Other                                 50\n",
       "Asian, Other                          24\n",
       "Asian Indian                          21\n",
       "Other Asian                           12\n",
       "Asian/Indian                           5\n",
       "Chinese                                2\n",
       "American Indian or Alaska Native       1\n",
       "Hawaiian                               1\n",
       "Native American, Other                 1\n",
       "Korean                                 1\n",
       "Name: count, dtype: int64"
      ]
     },
     "execution_count": 44,
     "metadata": {},
     "output_type": "execute_result"
    }
   ],
   "source": [
    "df['Race'].value_counts()"
   ]
  },
  {
   "cell_type": "code",
   "execution_count": 45,
   "id": "371653de",
   "metadata": {},
   "outputs": [
    {
     "data": {
      "image/png": "[encoded data removed]",
      "text/plain": [
       "<Figure size 1200x800 with 1 Axes>"
      ]
     },
     "metadata": {},
     "output_type": "display_data"
    }
   ],
   "source": [
    "injury_place_counts = df['Injury Place'].value_counts().head(10)  # Top 10 for brevity\n",
    "plt.figure(figsize=(12, 8))\n",
    "sns.barplot(x=injury_place_counts.values, y=injury_place_counts.index, palette='viridis')\n",
    "plt.title('Top 10 Injury Places')\n",
    "plt.xlabel('Counts')\n",
    "plt.ylabel('Injury Place')\n",
    "plt.show()"
   ]
  },
  {
   "cell_type": "code",
   "execution_count": 54,
   "id": "fe6e75ad",
   "metadata": {},
   "outputs": [
    {
     "name": "stdout",
     "output_type": "stream",
     "text": [
      "T-statistic: -7.024618179115654, P-value: 2.2876147066245988e-12\n",
      "There is a statistically significant difference between average white and black race drug overdose\n",
      "Age\n",
      "36    273\n",
      "33    264\n",
      "37    249\n",
      "35    248\n",
      "54    244\n",
      "     ... \n",
      "80      1\n",
      "81      1\n",
      "87      1\n",
      "76      1\n",
      "13      1\n",
      "Name: count, Length: 70, dtype: int64\n",
      "43.02613374327441\n",
      "46.24227441285538\n"
     ]
    }
   ],
   "source": [
    "df_white = df[df['Race'] == 'White']\n",
    "df_black = df[df['Race'] == 'Black']\n",
    "\n",
    "alpha = .05\n",
    "t_stat, p_value = stats.ttest_ind(df_white['Age'], df_black['Age'])\n",
    "\n",
    "print(f\"T-statistic: {t_stat}, P-value: {p_value}\")\n",
    "\n",
    "if (p_value < alpha):\n",
    "    print(\"There is a statistically significant difference between average white and black race drug overdose\")\n",
    "else:\n",
    "    print(\"There is not a statistically significant difference between average white and black race drug overdose\")\n",
    "    \n",
    "print(np.mean(df_white['Age']))\n",
    "print(np.mean(df_black['Age']))"
   ]
  },
  {
   "cell_type": "code",
   "execution_count": null,
   "id": "356d71bb",
   "metadata": {},
   "outputs": [],
   "source": []
  }
 ],
 "metadata": {
  "kernelspec": {
   "display_name": "Python 3 (ipykernel)",
   "language": "python",
   "name": "python3"
  },
  "language_info": {
   "codemirror_mode": {
    "name": "ipython",
    "version": 3
   },
   "file_extension": ".py",
   "mimetype": "text/x-python",
   "name": "python",
   "nbconvert_exporter": "python",
   "pygments_lexer": "ipython3",
   "version": "3.11.5"
  }
 },
 "nbformat": 4,
 "nbformat_minor": 5
}
